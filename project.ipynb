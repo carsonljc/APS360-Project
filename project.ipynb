{
 "cells": [
  {
   "cell_type": "markdown",
   "metadata": {},
   "source": [
    "Cropping the MTSD and sorting into the proper classes."
   ]
  },
  {
   "cell_type": "code",
   "execution_count": 21,
   "metadata": {
    "tags": []
   },
   "outputs": [
    {
     "name": "stdout",
     "output_type": "stream",
     "text": [
      "Error: tile cannot extend outside image\n",
      "Number of files without .jsons 8 which is 0.1509433962264151%\n"
     ]
    }
   ],
   "source": [
    "from PIL import Image\n",
    "import json\n",
    "import glob\n",
    "import os\n",
    "\n",
    "def get_pil_box(bbox):\n",
    "    return (bbox[\"xmin\"], bbox[\"ymin\"], bbox[\"xmax\"], bbox[\"ymax\"])\n",
    "\n",
    "# Edit these two variable to control the input and output directories\n",
    "mtsd_root = \"/Users/.../mtsd_fully_annotated\" # Path to root of original files\n",
    "out_root = \"/Users/.../APS360-Project/dataset\" # Directory to output to (will be created if it doesnt exist)\n",
    "\n",
    "json_root = os.path.join(mtsd_root, \"annotations/\")\n",
    "\n",
    "missing_file_count = 0\n",
    "total_file_count = 0\n",
    "for imagefile in glob.glob(os.path.join(mtsd_root, \"images/*.jpg\")):\n",
    "    total_file_count += 1\n",
    "    # Only print every 100 lines\n",
    "    if total_file_count % 100 == 0:\n",
    "        print(total_file_count)\n",
    "    \n",
    "    name, _ = os.path.splitext(os.path.basename(imagefile))\n",
    "    img = Image.open(imagefile)\n",
    "\n",
    "    try:\n",
    "        with open(os.path.join(json_root, name + \".json\")) as jsonfile:\n",
    "            annotations = json.load(jsonfile)\n",
    "\n",
    "        for obj in annotations[\"objects\"]:\n",
    "            key = obj[\"key\"]\n",
    "            label = obj[\"label\"]\n",
    "            crop = img.crop(get_pil_box(obj[\"bbox\"]))\n",
    "            \n",
    "            out_dir = os.path.join(out_root, label)\n",
    "            os.makedirs(out_dir, exist_ok=True)\n",
    "            crop.save(os.path.join(out_dir, key + \".jpg\"))\n",
    "    except FileNotFoundError:\n",
    "        # print(\"Warning: %s skipped because .json may not exist\" % imagefile)\n",
    "        missing_file_count += 1\n",
    "    except Exception as e:\n",
    "        print(\"Error: %s\" % e)\n",
    "\n",
    "print(\"Number of files without .jsons {} which is {}%\".format(missing_file_count, missing_file_count/total_file_count))"
   ]
  },
  {
   "cell_type": "code",
   "execution_count": 4,
   "metadata": {},
   "outputs": [
    {
     "name": "stdout",
     "output_type": "stream",
     "text": [
      "Highest count class is: regulatory--yield--g1 with 2775 items\n",
      "Lowest count class is: regulatory--shared-path-bicycles-and-pedestrians--g1 with 20 items\n"
     ]
    },
    {
     "data": {
      "image/png": "[encoded data removed]",
      "text/plain": [
       "<Figure size 432x288 with 1 Axes>"
      ]
     },
     "metadata": {
      "needs_background": "light"
     },
     "output_type": "display_data"
    }
   ],
   "source": [
    "# plot histogram of all classes in cropped dataset\n",
    "import matplotlib.pyplot as plt\n",
    "import os, os.path\n",
    "\n",
    "dataset_folder = 'C:\\\\jeremy\\\\Assignments\\\\APS360\\\\Project\\\\unique_dataset\\\\regulatory'\n",
    "reg_classes = os.listdir(dataset_folder)\n",
    "items = []\n",
    "highest = None\n",
    "highest_count = 0\n",
    "lowest = None\n",
    "lowest_count = 1e10\n",
    "for i,class_dir in enumerate(reg_classes):\n",
    "    fl = dataset_folder+'\\\\'+class_dir\n",
    "    if len(os.listdir(fl)) > highest_count:\n",
    "        highest = class_dir\n",
    "        highest_count = len(os.listdir(fl))\n",
    "    if len(os.listdir(fl)) < lowest_count:\n",
    "        lowest = class_dir\n",
    "        lowest_count = len(os.listdir(fl))\n",
    "    for fi in os.listdir(fl):\n",
    "        items.append(i)     \n",
    "plt.hist(items,bins=len(reg_classes))\n",
    "print(\"Highest count class is: {} with {} items\".format(highest,highest_count))\n",
    "print(\"Lowest count class is: {} with {} items\".format(lowest,lowest_count))"
   ]
  },
  {
   "cell_type": "code",
   "execution_count": 5,
   "metadata": {},
   "outputs": [
    {
     "name": "stdout",
     "output_type": "stream",
     "text": [
      "Class name: regulatory--bicycles-only--g1 with 282 items\n",
      "Class name: regulatory--buses-only--g1 with 76 items\n",
      "Class name: regulatory--do-not-block-intersection--g1 with 58 items\n",
      "Class name: regulatory--dual-lanes-go-straight-on-left--g1 with 64 items\n",
      "Class name: regulatory--dual-lanes-go-straight-on-right--g1 with 50 items\n",
      "Class name: regulatory--dual-path-bicycles-and-pedestrians--g1 with 60 items\n",
      "Class name: regulatory--end-of-bicycles-only--g1 with 58 items\n",
      "Class name: regulatory--end-of-maximum-speed-limit-70--g1 with 57 items\n",
      "Class name: regulatory--end-of-no-parking--g1 with 37 items\n",
      "Class name: regulatory--end-of-priority-road--g1 with 92 items\n",
      "Class name: regulatory--end-of-prohibition--g1 with 82 items\n",
      "Class name: regulatory--end-of-speed-limit-zone--g1 with 117 items\n",
      "Class name: regulatory--give-way-to-oncoming-traffic--g1 with 76 items\n",
      "Class name: regulatory--go-straight--g1 with 485 items\n",
      "Class name: regulatory--go-straight-or-turn-left--g1 with 153 items\n",
      "Class name: regulatory--go-straight-or-turn-right--g1 with 130 items\n",
      "Class name: regulatory--height-limit--g1 with 459 items\n",
      "Class name: regulatory--keep-left--g1 with 452 items\n",
      "Class name: regulatory--keep-right--g1 with 1231 items\n",
      "Class name: regulatory--lane-control--g1 with 107 items\n",
      "Class name: regulatory--left-turn-yield-on-green--g1 with 100 items\n",
      "Class name: regulatory--maximum-speed-limit-10--g1 with 110 items\n",
      "Class name: regulatory--maximum-speed-limit-100--g1 with 194 items\n",
      "Class name: regulatory--maximum-speed-limit-110--g1 with 121 items\n",
      "Class name: regulatory--maximum-speed-limit-120--g1 with 108 items\n",
      "Class name: regulatory--maximum-speed-limit-20--g1 with 224 items\n",
      "Class name: regulatory--maximum-speed-limit-25--g2 with 212 items\n",
      "Class name: regulatory--maximum-speed-limit-30--g1 with 740 items\n",
      "Class name: regulatory--maximum-speed-limit-35--g2 with 156 items\n",
      "Class name: regulatory--maximum-speed-limit-40--g1 with 978 items\n",
      "Class name: regulatory--maximum-speed-limit-45--g3 with 102 items\n",
      "Class name: regulatory--maximum-speed-limit-5--g1 with 107 items\n",
      "Class name: regulatory--maximum-speed-limit-50--g1 with 701 items\n",
      "Class name: regulatory--maximum-speed-limit-55--g2 with 144 items\n",
      "Class name: regulatory--maximum-speed-limit-60--g1 with 648 items\n",
      "Class name: regulatory--maximum-speed-limit-70--g1 with 338 items\n",
      "Class name: regulatory--maximum-speed-limit-80--g1 with 410 items\n",
      "Class name: regulatory--maximum-speed-limit-90--g1 with 254 items\n",
      "Class name: regulatory--maximum-speed-limit-led-100--g1 with 74 items\n",
      "Class name: regulatory--maximum-speed-limit-led-60--g1 with 62 items\n",
      "Class name: regulatory--maximum-speed-limit-led-80--g1 with 50 items\n",
      "Class name: regulatory--mopeds-and-bicycles-only--g1 with 115 items\n",
      "Class name: regulatory--no-bicycles--g1 with 73 items\n",
      "Class name: regulatory--no-buses--g3 with 51 items\n",
      "Class name: regulatory--no-entry--g1 with 2021 items\n",
      "Class name: regulatory--no-heavy-goods-vehicles--g1 with 361 items\n",
      "Class name: regulatory--no-left-turn--g1 with 474 items\n",
      "Class name: regulatory--no-motor-vehicles-except-motorcycles--g1 with 58 items\n",
      "Class name: regulatory--no-motorcycles--g1 with 88 items\n",
      "Class name: regulatory--no-overtaking--g1 with 278 items\n",
      "Class name: regulatory--no-overtaking-by-heavy-goods-vehicles--g1 with 61 items\n",
      "Class name: regulatory--no-parking--g1 with 1099 items\n",
      "Class name: regulatory--no-parking-or-no-stopping--g1 with 82 items\n",
      "Class name: regulatory--no-pedestrians--g1 with 90 items\n",
      "Class name: regulatory--no-right-turn--g1 with 277 items\n",
      "Class name: regulatory--no-stopping--g1 with 1122 items\n",
      "Class name: regulatory--no-straight-through--g1 with 78 items\n",
      "Class name: regulatory--no-turn-on-red--g1 with 104 items\n",
      "Class name: regulatory--no-u-turn--g1 with 464 items\n",
      "Class name: regulatory--no-vehicles-carrying-dangerous-goods--g1 with 121 items\n",
      "Class name: regulatory--one-way-left--g1 with 343 items\n",
      "Class name: regulatory--one-way-right--g1 with 276 items\n",
      "Class name: regulatory--one-way-straight--g1 with 420 items\n",
      "Class name: regulatory--parking-restrictions--g2 with 58 items\n",
      "Class name: regulatory--pass-on-either-side--g1 with 313 items\n",
      "Class name: regulatory--passing-lane-ahead--g1 with 47 items\n",
      "Class name: regulatory--pedestrians-only--g1 with 170 items\n",
      "Class name: regulatory--priority-over-oncoming-vehicles--g1 with 116 items\n",
      "Class name: regulatory--priority-road--g1 with 1159 items\n",
      "Class name: regulatory--radar-enforced--g1 with 102 items\n",
      "Class name: regulatory--reversible-lanes--g2 with 118 items\n",
      "Class name: regulatory--road-closed--g2 with 83 items\n",
      "Class name: regulatory--road-closed-to-vehicles--g1 with 40 items\n",
      "Class name: regulatory--roundabout--g1 with 388 items\n",
      "Class name: regulatory--shared-path-bicycles-and-pedestrians--g1 with 20 items\n",
      "Class name: regulatory--shared-path-pedestrians-and-bicycles--g1 with 241 items\n",
      "Class name: regulatory--stop--g1 with 1387 items\n",
      "Class name: regulatory--stop-here-on-red-or-flashing-light--g1 with 86 items\n",
      "Class name: regulatory--stop-signals--g1 with 50 items\n",
      "Class name: regulatory--triple-lanes-turn-left-center-lane--g1 with 51 items\n",
      "Class name: regulatory--turn-left--g1 with 170 items\n",
      "Class name: regulatory--turn-left-ahead--g1 with 123 items\n",
      "Class name: regulatory--turn-right--g1 with 314 items\n",
      "Class name: regulatory--turn-right-ahead--g1 with 179 items\n",
      "Class name: regulatory--u-turn--g1 with 83 items\n",
      "Class name: regulatory--weight-limit--g1 with 217 items\n",
      "Class name: regulatory--wrong-way--g1 with 73 items\n",
      "Class name: regulatory--yield--g1 with 2775 items\n"
     ]
    }
   ],
   "source": [
    "# check all the classes count\n",
    "for i,class_dir in enumerate(reg_classes):\n",
    "    fl = dataset_folder+'\\\\'+class_dir\n",
    "    print(\"Class name: {} with {} items\".format(class_dir,len(os.listdir(fl))))"
   ]
  },
  {
   "cell_type": "code",
   "execution_count": null,
   "metadata": {},
   "outputs": [],
   "source": [
    "# data augmentation\n",
    "\n",
    "import random\n",
    "from scipy import ndarray\n",
    "import skimage as sk\n",
    "from skimage import transform\n",
    "from skimage import util\n",
    "\n",
    "# pick a random degree of rotation between 25% on the left and 25% on the right\n",
    "def random_rotation(image_array: ndarray):\n",
    "    random_degree = random.uniform(-25, 25)\n",
    "    return sk.transform.rotate(image_array, random_degree)\n",
    "\n",
    "# add random noise to the image\n",
    "def random_noise(image_array: ndarray):\n",
    "    return sk.util.random_noise(image_array)\n",
    "\n"
   ]
  },
  {
   "cell_type": "code",
   "execution_count": null,
   "metadata": {},
   "outputs": [],
   "source": [
    "# locally split cropped dataset\n",
    "pip install split_folders"
   ]
  },
  {
   "cell_type": "code",
   "execution_count": null,
   "metadata": {},
   "outputs": [],
   "source": [
    "import split_folders\n",
    "input_folder = 'C:\\\\jeremy\\\\Assignments\\\\APS360\\\\Project\\\\unique_dataset\\\\regulatory'\n",
    "output_folder = 'C:\\\\jeremy\\\\Assignments\\\\APS360\\\\Project\\\\split_unique_datasets'\n",
    "split_folders.ratio(input_folder, output=output_folder, seed=1337, ratio=(.70, .15, .15))"
   ]
  },
  {
   "cell_type": "code",
   "execution_count": null,
   "metadata": {},
   "outputs": [],
   "source": [
    "# Split uncropped dataset on google colab\n",
    "!pip install gdown"
   ]
  },
  {
   "cell_type": "code",
   "execution_count": null,
   "metadata": {},
   "outputs": [],
   "source": [
    "# Access denied, will have to do it locally\n",
    "!gdown --id 1Fjn2RV8BBRZhtiwJA9Wdg-3BMt9Z_pyJ --output regulatory.zip"
   ]
  },
  {
   "cell_type": "code",
   "execution_count": 2,
   "metadata": {},
   "outputs": [
    {
     "name": "stdout",
     "output_type": "stream",
     "text": [
      "Annotation files: 18027\n",
      "image files: 18027\n",
      "--7fWq6WjZM8L1eUSuvOEA.json\n",
      "--7fWq6WjZM8L1eUSuvOEA.jpg\n"
     ]
    }
   ],
   "source": [
    "# Check num of dataset\n",
    "import os, os.path\n",
    "base_dir = 'C:\\\\jeremy\\\\Assignments\\\\APS360\\\\Project\\\\Regulatory\\\\'\n",
    "print(\"Annotation files: {}\".format(len(os.listdir(base_dir+'annotations'))))\n",
    "print(\"image files: {}\".format(len(os.listdir(base_dir+'images'))))\n",
    "print(os.listdir(base_dir+'annotations')[0])\n",
    "print(os.listdir(base_dir+'images')[0])"
   ]
  },
  {
   "cell_type": "code",
   "execution_count": 5,
   "metadata": {},
   "outputs": [
    {
     "name": "stdout",
     "output_type": "stream",
     "text": [
      "Train: 12618, Val: 2704, Test: 2705\n"
     ]
    }
   ],
   "source": [
    "# split uncropped images\n",
    "import os\n",
    "from glob import glob\n",
    "import shutil\n",
    "from sklearn.model_selection import train_test_split\n",
    "\n",
    "# find all image file names\n",
    "image_files = glob(base_dir+'images\\\\*.jpg')\n",
    "image_names = [name.replace(\".jpg\",\"\").split('\\\\')[-1] for name in image_files]\n",
    "\n",
    "# split names into 70% train, 15% val and 15% test\n",
    "train_names, test_names = train_test_split(image_names, test_size=0.3,random_state=1)\n",
    "val_names, test_names = train_test_split(test_names, test_size=0.5,random_state=1)\n",
    "print(f'Train: {len(train_names)}, Val: {len(val_names)}, Test: {len(test_names)}')"
   ]
  },
  {
   "cell_type": "code",
   "execution_count": 6,
   "metadata": {},
   "outputs": [],
   "source": [
    "# split the files\n",
    "def move_files(file_names, source_path, destination_path):\n",
    "    # create dir if not exist\n",
    "    if not os.path.exists(destination_path):\n",
    "        os.makedirs(destination_path)\n",
    "    if not os.path.exists(destination_path+'images'):\n",
    "        os.makedirs(destination_path+'images')\n",
    "    if not os.path.exists(destination_path+'annotations'):\n",
    "        os.makedirs(destination_path+'annotations')\n",
    "    \n",
    "    # move images with given name\n",
    "    for fi in file_names:\n",
    "         image = fi+'.jpg'\n",
    "         json = fi+'.json'\n",
    "         \n",
    "         shutil.move(os.path.join(source_path+'images', image), \n",
    "                     os.path.join(destination_path+'images', image))\n",
    "         shutil.move(os.path.join(source_path+'annotations', json),\n",
    "                     os.path.join(destination_path+'annotations', json))\n",
    "    return\n",
    "\n",
    "source_path = base_dir\n",
    "destination_path = 'C:\\\\jeremy\\\\Assignments\\\\APS360\\\\Project\\\\split_regulatory_dataset\\\\'\n",
    "move_files(train_names,source_path,(destination_path+'train\\\\'))\n",
    "move_files(val_names,source_path,(destination_path+'val\\\\'))\n",
    "move_files(test_names,source_path,(destination_path+'test\\\\'))"
   ]
  },
  {
   "cell_type": "code",
   "execution_count": 7,
   "metadata": {},
   "outputs": [
    {
     "name": "stdout",
     "output_type": "stream",
     "text": [
      "Train files: 12618\n",
      "Val files: 2704\n",
      "Test files: 2705\n"
     ]
    }
   ],
   "source": [
    "print(\"Train files: {}\".format(len(os.listdir(destination_path+'train/images'))))\n",
    "print(\"Val files: {}\".format(len(os.listdir(destination_path+'val/images'))))\n",
    "print(\"Test files: {}\".format(len(os.listdir(destination_path+'test/images'))))"
   ]
  },
  {
   "cell_type": "code",
   "execution_count": null,
   "metadata": {},
   "outputs": [],
   "source": [
    "# Create a zip if using Colab\n",
    "!zip -r '/root/split_uncropped_dataset' -v '/root'"
   ]
  }
 ],
 "metadata": {
  "kernelspec": {
   "display_name": "Python 3",
   "language": "python",
   "name": "python3"
  },
  "language_info": {
   "codemirror_mode": {
    "name": "ipython",
    "version": 3
   },
   "file_extension": ".py",
   "mimetype": "text/x-python",
   "name": "python",
   "nbconvert_exporter": "python",
   "pygments_lexer": "ipython3",
   "version": "3.7.6"
  }
 },
 "nbformat": 4,
 "nbformat_minor": 4
}
