{
 "cells": [
  {
   "cell_type": "markdown",
   "metadata": {},
   "source": [
    "Cropping the MTSD and sorting into the proper classes."
   ]
  },
  {
   "cell_type": "code",
   "execution_count": 21,
   "metadata": {
    "tags": []
   },
   "outputs": [
    {
     "output_type": "stream",
     "name": "stdout",
     "text": "Error: tile cannot extend outside image\nNumber of files without .jsons 8 which is 0.1509433962264151%\n"
    }
   ],
   "source": [
    "from PIL import Image\n",
    "import json\n",
    "import glob\n",
    "import os\n",
    "\n",
    "def get_pil_box(bbox):\n",
    "    return (bbox[\"xmin\"], bbox[\"ymin\"], bbox[\"xmax\"], bbox[\"ymax\"])\n",
    "\n",
    "# Edit these two variable to control the input and output directories\n",
    "mtsd_root = \"/Users/.../mtsd_fully_annotated\" # Path to root of original files\n",
    "out_root = \"/Users/.../APS360-Project/dataset\" # Directory to output to (will be created if it doesnt exist)\n",
    "\n",
    "json_root = os.path.join(mtsd_root, \"annotations/\")\n",
    "\n",
    "missing_file_count = 0\n",
    "total_file_count = 0\n",
    "for imagefile in glob.glob(os.path.join(mtsd_root, \"images/*.jpg\")):\n",
    "    total_file_count += 1\n",
    "    # Only print every 100 lines\n",
    "    if total_file_count % 100 == 0:\n",
    "        print(total_file_count)\n",
    "    \n",
    "    name, _ = os.path.splitext(os.path.basename(imagefile))\n",
    "    img = Image.open(imagefile)\n",
    "\n",
    "    try:\n",
    "        with open(os.path.join(json_root, name + \".json\")) as jsonfile:\n",
    "            annotations = json.load(jsonfile)\n",
    "\n",
    "        for obj in annotations[\"objects\"]:\n",
    "            key = obj[\"key\"]\n",
    "            label = obj[\"label\"]\n",
    "            crop = img.crop(get_pil_box(obj[\"bbox\"]))\n",
    "            \n",
    "            out_dir = os.path.join(out_root, label)\n",
    "            os.makedirs(out_dir, exist_ok=True)\n",
    "            crop.save(os.path.join(out_dir, key + \".jpg\"))\n",
    "    except FileNotFoundError:\n",
    "        # print(\"Warning: %s skipped because .json may not exist\" % imagefile)\n",
    "        missing_file_count += 1\n",
    "    except Exception as e:\n",
    "        print(\"Error: %s\" % e)\n",
    "\n",
    "print(\"Number of files without .jsons {} which is {}%\".format(missing_file_count, missing_file_count/total_file_count))"
   ]
  },
  {
   "cell_type": "code",
   "execution_count": null,
   "metadata": {},
   "outputs": [],
   "source": []
  }
 ],
 "metadata": {
  "kernelspec": {
   "display_name": "Python 3",
   "language": "python",
   "name": "python3"
  },
  "language_info": {
   "codemirror_mode": {
    "name": "ipython",
    "version": 3
   },
   "file_extension": ".py",
   "mimetype": "text/x-python",
   "name": "python",
   "nbconvert_exporter": "python",
   "pygments_lexer": "ipython3",
   "version": "3.6.10-final"
  }
 },
 "nbformat": 4,
 "nbformat_minor": 4
}