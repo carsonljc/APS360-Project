{
 "cells": [
  {
   "cell_type": "markdown",
   "metadata": {},
   "source": [
    "Cropping the MTSD and sorting into the proper classes."
   ]
  },
  {
   "cell_type": "code",
   "execution_count": 21,
   "metadata": {
    "tags": []
   },
   "outputs": [
    {
     "name": "stdout",
     "output_type": "stream",
     "text": [
      "Error: tile cannot extend outside image\n",
      "Number of files without .jsons 8 which is 0.1509433962264151%\n"
     ]
    }
   ],
   "source": [
    "from PIL import Image\n",
    "import json\n",
    "import glob\n",
    "import os\n",
    "\n",
    "def get_pil_box(bbox):\n",
    "    return (bbox[\"xmin\"], bbox[\"ymin\"], bbox[\"xmax\"], bbox[\"ymax\"])\n",
    "\n",
    "# Edit these two variable to control the input and output directories\n",
    "mtsd_root = \"/Users/.../mtsd_fully_annotated\" # Path to root of original files\n",
    "out_root = \"/Users/.../APS360-Project/dataset\" # Directory to output to (will be created if it doesnt exist)\n",
    "\n",
    "json_root = os.path.join(mtsd_root, \"annotations/\")\n",
    "\n",
    "missing_file_count = 0\n",
    "total_file_count = 0\n",
    "for imagefile in glob.glob(os.path.join(mtsd_root, \"images/*.jpg\")):\n",
    "    total_file_count += 1\n",
    "    # Only print every 100 lines\n",
    "    if total_file_count % 100 == 0:\n",
    "        print(total_file_count)\n",
    "    \n",
    "    name, _ = os.path.splitext(os.path.basename(imagefile))\n",
    "    img = Image.open(imagefile)\n",
    "\n",
    "    try:\n",
    "        with open(os.path.join(json_root, name + \".json\")) as jsonfile:\n",
    "            annotations = json.load(jsonfile)\n",
    "\n",
    "        for obj in annotations[\"objects\"]:\n",
    "            key = obj[\"key\"]\n",
    "            label = obj[\"label\"]\n",
    "            crop = img.crop(get_pil_box(obj[\"bbox\"]))\n",
    "            \n",
    "            out_dir = os.path.join(out_root, label)\n",
    "            os.makedirs(out_dir, exist_ok=True)\n",
    "            crop.save(os.path.join(out_dir, key + \".jpg\"))\n",
    "    except FileNotFoundError:\n",
    "        # print(\"Warning: %s skipped because .json may not exist\" % imagefile)\n",
    "        missing_file_count += 1\n",
    "    except Exception as e:\n",
    "        print(\"Error: %s\" % e)\n",
    "\n",
    "print(\"Number of files without .jsons {} which is {}%\".format(missing_file_count, missing_file_count/total_file_count))"
   ]
  },
  {
   "cell_type": "code",
   "execution_count": null,
   "metadata": {},
   "outputs": [],
   "source": [
    "pip install split_folders"
   ]
  },
  {
   "cell_type": "code",
   "execution_count": null,
   "metadata": {},
   "outputs": [],
   "source": [
    "# locally split cropped dataset\n",
    "import split_folders\n",
    "input_folder = 'C:\\\\jeremy\\\\Assignments\\\\APS360\\\\Project\\\\unique_dataset\\\\regulatory'\n",
    "output_folder = 'C:\\\\jeremy\\\\Assignments\\\\APS360\\\\Project\\\\split_unique_datasets'\n",
    "split_folders.ratio(input_folder, output=output_folder, seed=1337, ratio=(.70, .15, .15))"
   ]
  },
  {
   "cell_type": "code",
   "execution_count": 4,
   "metadata": {},
   "outputs": [
    {
     "name": "stdout",
     "output_type": "stream",
     "text": [
      "Highest count class is: regulatory--yield--g1 with 2775 items\n",
      "Lowest count class is: regulatory--shared-path-bicycles-and-pedestrians--g1 with 20 items\n"
     ]
    },
    {
     "data": {
      "image/png": "[encoded data removed]",
      "text/plain": [
       "<Figure size 432x288 with 1 Axes>"
      ]
     },
     "metadata": {
      "needs_background": "light"
     },
     "output_type": "display_data"
    }
   ],
   "source": [
    "# plot histogram of all classes in cropped dataset\n",
    "import matplotlib.pyplot as plt\n",
    "import os, os.path\n",
    "\n",
    "dataset_folder = 'C:\\\\jeremy\\\\Assignments\\\\APS360\\\\Project\\\\unique_dataset\\\\regulatory'\n",
    "reg_classes = os.listdir(dataset_folder)\n",
    "items = []\n",
    "highest = None\n",
    "highest_count = 0\n",
    "lowest = None\n",
    "lowest_count = 1e10\n",
    "for i,class_dir in enumerate(reg_classes):\n",
    "    fl = dataset_folder+'\\\\'+class_dir\n",
    "    if len(os.listdir(fl)) > highest_count:\n",
    "        highest = class_dir\n",
    "        highest_count = len(os.listdir(fl))\n",
    "    if len(os.listdir(fl)) < lowest_count:\n",
    "        lowest = class_dir\n",
    "        lowest_count = len(os.listdir(fl))\n",
    "    for fi in os.listdir(fl):\n",
    "        items.append(i)     \n",
    "plt.hist(items,bins=len(reg_classes))\n",
    "print(\"Highest count class is: {} with {} items\".format(highest,highest_count))\n",
    "print(\"Lowest count class is: {} with {} items\".format(lowest,lowest_count))"
   ]
  },
  {
   "cell_type": "code",
   "execution_count": null,
   "metadata": {},
   "outputs": [],
   "source": [
    "# data augmentation\n",
    "\n",
    "import random\n",
    "from scipy import ndarray\n",
    "import skimage as sk\n",
    "from skimage import transform\n",
    "from skimage import util\n",
    "\n",
    "# pick a random degree of rotation between 25% on the left and 25% on the right\n",
    "def random_rotation(image_array: ndarray):\n",
    "    random_degree = random.uniform(-25, 25)\n",
    "    return sk.transform.rotate(image_array, random_degree)\n",
    "\n",
    "# add random noise to the image\n",
    "def random_noise(image_array: ndarray):\n",
    "    return sk.util.random_noise(image_array)\n",
    "\n"
   ]
  }
 ],
 "metadata": {
  "kernelspec": {
   "display_name": "Python 3",
   "language": "python",
   "name": "python3"
  },
  "language_info": {
   "codemirror_mode": {
    "name": "ipython",
    "version": 3
   },
   "file_extension": ".py",
   "mimetype": "text/x-python",
   "name": "python",
   "nbconvert_exporter": "python",
   "pygments_lexer": "ipython3",
   "version": "3.7.6"
  }
 },
 "nbformat": 4,
 "nbformat_minor": 4
}
