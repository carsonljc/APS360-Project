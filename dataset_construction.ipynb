{
 "cells": [
  {
   "cell_type": "code",
   "execution_count": 3,
   "metadata": {},
   "outputs": [
    {
     "name": "stdout",
     "output_type": "stream",
     "text": [
      "{'regulatory--no-parking--g2', 'regulatory--maximum-speed-limit-55--g2', 'warning--road-narrows-left--g2', 'regulatory--maximum-speed-limit-25--g2', 'warning--pedestrians-crossing--g4', 'warning--roundabout--g2', 'regulatory--keep-left--g2', 'regulatory--do-not-block-intersection--g1', 'regulatory--turn-left--g2', 'regulatory--stop--g1', 'warning--steep-descent--g2', 'complementary--obstacle-delineator--g1', 'regulatory--one-way-right--g3', 'warning--narrow-bridge--g1', 'warning--turn-right--g1', 'warning--t-roads--g2', 'regulatory--wrong-way--g1', 'warning--crossroads--g3', 'regulatory--maximum-speed-limit-30--g3', 'information--disabled-persons--g1', 'regulatory--go-straight--g3', 'regulatory--yield--g1', 'information--gas-station--g1', 'regulatory--no-heavy-goods-vehicles--g2', 'complementary--chevron-right--g1', 'regulatory--no-entry--g1', 'information--highway-exit--g1', 'complementary--tow-away-zone--g1', 'warning--traffic-merges-right--g1', 'regulatory--no-overtaking--g5', 'warning--junction-with-a-side-road-perpendicular-right--g3', 'warning--road-narrows--g2', 'regulatory--no-right-turn--g1', 'warning--turn-left--g1', 'warning--school-zone--g2', 'regulatory--no-straight-through--g1', 'information--hospital--g1', 'regulatory--no-u-turn--g1', 'regulatory--one-way-left--g3', 'warning--road-narrows-right--g2', 'regulatory--maximum-speed-limit-45--g3', 'complementary--both-directions--g1', 'regulatory--no-bicycles--g2', 'warning--winding-road-first-left--g1', 'regulatory--dual-lanes-go-straight-on-right--g1', 'regulatory--triple-lanes-turn-left-center-lane--g1', 'warning--traffic-merges-left--g1', 'warning--traffic-signals--g3', 'warning--y-roads--g1', 'information--telephone--g1', 'complementary--chevron-left--g1', 'regulatory--reversible-lanes--g2', 'warning--winding-road-first-right--g1', 'warning--double-curve-first-right--g2', 'regulatory--maximum-speed-limit-100--g3', 'regulatory--maximum-speed-limit-35--g2', 'regulatory--no-buses--g3', 'information--airport--g2', 'warning--curve-left--g2', 'warning--curve-right--g2', 'regulatory--turn-right--g3', 'warning--junction-with-a-side-road-perpendicular-left--g3', 'warning--double-curve-first-left--g2', 'regulatory--no-turn-on-red--g2', 'regulatory--dual-lanes-go-straight-on-left--g1', 'regulatory--no-left-turn--g2', 'regulatory--road-closed--g2', 'warning--divided-highway-ends--g2', 'warning--height-restriction--g2', 'complementary--obstacle-delineator--g2', 'regulatory--maximum-speed-limit-40--g3', 'information--bike-route--g1', 'regulatory--no-pedestrians--g2', 'regulatory--keep-right--g4', 'regulatory--go-straight-or-turn-left--g2'}\n",
      "75\n"
     ]
    }
   ],
   "source": [
    "# reads the config file to get valid classes\n",
    "\n",
    "valid_classes = set()\n",
    "with open(\"valid_classes.txt\", \"r\") as fp:\n",
    "    for line in fp:\n",
    "        valid_classes.add(line.strip())\n",
    "print(valid_classes)\n",
    "print(len(valid_classes))"
   ]
  },
  {
   "cell_type": "code",
   "execution_count": 5,
   "metadata": {},
   "outputs": [
    {
     "name": "stdout",
     "output_type": "stream",
     "text": [
      "19685\n",
      "19041\n",
      "238\n",
      "0\n",
      "set()\n",
      "{'other-sign'}\n",
      "19041\n"
     ]
    }
   ],
   "source": [
    "# Verify aspects of the our classes and gets list of valid images\n",
    "import shutil\n",
    "import os\n",
    "import glob\n",
    "import json\n",
    "\n",
    "annotations_path = \"mtsd_fully_annotated/annotations\"\n",
    "images_path = \"mtsd_fully_annotated/images\"\n",
    "\n",
    "problem_image_count = 0 # Number of images that we shouldn't include\n",
    "all_missing_classes = set() # Number of classes that are missing which caused the problem images\n",
    "total_valid = 0 # Total number of valid images\n",
    "seen_valid = set() # Classes that we have seen in the valid images\n",
    "\n",
    "valid_images = set() # Images that are valid and we can include\n",
    "\n",
    "for annotation in glob.glob(os.path.join(annotations_path, \"*.json\")):\n",
    "    with open(annotation, \"r\") as fp:\n",
    "        data = json.loads(fp.read())\n",
    "    at_least_one = False\n",
    "    not_included = set()\n",
    "    contained_classes = set()\n",
    "    \n",
    "    for obj in data[\"objects\"]:\n",
    "        # Dont recognize the label and its not \"other-sign\"\n",
    "        if obj[\"label\"] not in valid_classes and obj[\"label\"] != \"other-sign\":\n",
    "            not_included.add(obj[\"label\"])\n",
    "        # Recognized the label and/or its \"other-sign\"\n",
    "        else:\n",
    "            contained_classes.add(obj[\"label\"])\n",
    "            at_least_one = True\n",
    "    \n",
    "    # If there is at least one that is valid, but there are other invalid classes\n",
    "    if at_least_one and not_included:\n",
    "        problem_image_count += 1\n",
    "        all_missing_classes = all_missing_classes.union(not_included)\n",
    "#         print(\"The image '{}' is missing: '{}'\".format(annotation, not_included))\n",
    "    # All the classes are valid\n",
    "    elif at_least_one:\n",
    "        valid_images.add(annotation)\n",
    "        seen_valid = seen_valid.union(contained_classes)\n",
    "        total_valid += 1\n",
    "\n",
    "print(problem_image_count)\n",
    "print(total_valid)\n",
    "print(len(all_missing_classes))\n",
    "print(len(valid_classes.difference(seen_valid)))\n",
    "print(valid_classes.difference(seen_valid))\n",
    "print(seen_valid.difference(valid_classes))\n",
    "print(len(valid_images))\n"
   ]
  },
  {
   "cell_type": "code",
   "execution_count": null,
   "metadata": {},
   "outputs": [],
   "source": [
    "from PIL import Image\n",
    "images_path = \"mtsd_fully_annotated/images\"\n",
    "\n",
    "def get_pil_box(bbox):\n",
    "    return (bbox[\"xmin\"], bbox[\"ymin\"], bbox[\"xmax\"], bbox[\"ymax\"])\n",
    "\n",
    "for annotation_name in valid_images:\n",
    "    name = os.path.splitext(os.path.basename(annotation_name))[0]\n",
    "    with open(annotation_name, \"r\") as fp:\n",
    "        data = json.loads(fp.read())\n",
    "        \n",
    "    imagefile = os.path.join(images_path, \"%s.jpg\" % name)\n",
    "#     if os.path.isfile(imagefile):\n",
    "#         print(\"%s does not have .jpg\" % annotation_name)\n",
    "#         continue\n",
    "#     print(imagefile)\n",
    "    for obj in data[\"objects\"]:\n",
    "        if obj[\"label\"] == \"other-sign\":\n",
    "            key = obj[\"key\"]\n",
    "            try:\n",
    "                img = Image.open(imagefile)\n",
    "                crop = img.crop(get_pil_box(obj[\"bbox\"]))\n",
    "                crop.save(os.path.join(\"new_dataset/other-sign\", key + \".jpg\"))\n",
    "            except Exception:\n",
    "                print(\"%s does not have jpg\" % imagefile)"
   ]
  },
  {
   "cell_type": "code",
   "execution_count": 9,
   "metadata": {},
   "outputs": [
    {
     "name": "stdout",
     "output_type": "stream",
     "text": [
      "6467\n",
      "0\n",
      "19041\n",
      "12574\n",
      "6467\n"
     ]
    }
   ],
   "source": [
    "invalid_images = set()\n",
    "for annotation_name in valid_images:\n",
    "    name = os.path.splitext(os.path.basename(annotation_name))[0]\n",
    "    imagefile = os.path.join(images_path, \"%s.jpg\" % name)\n",
    "    with open(annotation_name, \"r\") as fp:\n",
    "        data = json.loads(fp.read())\n",
    "    classes = set([x[\"label\"] for x in data[\"objects\"]])\n",
    "    if len(classes) == 1 and \"other-sign\" in classes:\n",
    "        invalid_images.add(annotation_name)\n",
    "        \n",
    "print(len(valid_images.difference(invalid_images)))\n",
    "print(len(invalid_images.difference(valid_images)))\n",
    "\n",
    "        \n",
    "print(len(valid_images))\n",
    "print(invalid_count)\n",
    "print(len(valid_images) - invalid_count)\n",
    "\n",
    "for annotation_name in valid_images.difference(invalid_images):\n",
    "    name = os.path.splitext(os.path.basename(annotation_name))[0]\n",
    "    imagefile = os.path.join(images_path, \"%s.jpg\" % name)\n",
    "    shutil.copy(annotation_name, \"new_raw_dataset/annotations/%s.json\" % name)\n",
    "    shutil.copy(imagefile, \"new_raw_dataset/images/%s.jpg\" % name)"
   ]
  },
  {
   "cell_type": "code",
   "execution_count": 31,
   "metadata": {},
   "outputs": [
    {
     "ename": "AttributeError",
     "evalue": "'set' object has no attribute 'different'",
     "output_type": "error",
     "traceback": [
      "\u001b[0;31m---------------------------------------------------------------------------\u001b[0m",
      "\u001b[0;31mAttributeError\u001b[0m                            Traceback (most recent call last)",
      "\u001b[0;32m<ipython-input-31-984b2f7d0d41>\u001b[0m in \u001b[0;36m<module>\u001b[0;34m\u001b[0m\n\u001b[1;32m      9\u001b[0m         \u001b[0mshutil\u001b[0m\u001b[0;34m.\u001b[0m\u001b[0mcopytree\u001b[0m\u001b[0;34m(\u001b[0m\u001b[0mclass_folder\u001b[0m\u001b[0;34m,\u001b[0m \u001b[0mos\u001b[0m\u001b[0;34m.\u001b[0m\u001b[0mpath\u001b[0m\u001b[0;34m.\u001b[0m\u001b[0mjoin\u001b[0m\u001b[0;34m(\u001b[0m\u001b[0mnew_path\u001b[0m\u001b[0;34m,\u001b[0m \u001b[0mclass_name\u001b[0m\u001b[0;34m)\u001b[0m\u001b[0;34m)\u001b[0m\u001b[0;34m\u001b[0m\u001b[0;34m\u001b[0m\u001b[0m\n\u001b[1;32m     10\u001b[0m \u001b[0;34m\u001b[0m\u001b[0m\n\u001b[0;32m---> 11\u001b[0;31m \u001b[0mprint\u001b[0m\u001b[0;34m(\u001b[0m\u001b[0mvalid_classes\u001b[0m\u001b[0;34m.\u001b[0m\u001b[0mdifferent\u001b[0m\u001b[0;34m(\u001b[0m\u001b[0mcopied_classes\u001b[0m\u001b[0;34m)\u001b[0m\u001b[0;34m)\u001b[0m\u001b[0;34m\u001b[0m\u001b[0;34m\u001b[0m\u001b[0m\n\u001b[0m\u001b[1;32m     12\u001b[0m \u001b[0mprint\u001b[0m\u001b[0;34m(\u001b[0m\u001b[0mcopied_classes\u001b[0m\u001b[0;34m.\u001b[0m\u001b[0mdifference\u001b[0m\u001b[0;34m(\u001b[0m\u001b[0mvalid_classes\u001b[0m\u001b[0;34m)\u001b[0m\u001b[0;34m)\u001b[0m\u001b[0;34m\u001b[0m\u001b[0;34m\u001b[0m\u001b[0m\n",
      "\u001b[0;31mAttributeError\u001b[0m: 'set' object has no attribute 'different'"
     ]
    }
   ],
   "source": [
    "images_path = \"cropped\"\n",
    "new_path = \"new_dataset\"\n",
    "\n",
    "copied_classes = set()\n",
    "for class_folder in glob.glob(os.path.join(images_path, \"*/*--*\")):\n",
    "    class_name = class_folder.split(\"/\")[-1]\n",
    "    if class_name in valid_classes:\n",
    "        copied_classes.add(class_name)\n",
    "        shutil.copytree(class_folder, os.path.join(new_path, class_name))\n",
    "        \n",
    "print(valid_classes.difference(copied_classes))\n",
    "print(copied_classes.difference(valid_classes))"
   ]
  },
  {
   "cell_type": "code",
   "execution_count": 32,
   "metadata": {},
   "outputs": [
    {
     "name": "stdout",
     "output_type": "stream",
     "text": [
      "set()\n",
      "set()\n"
     ]
    }
   ],
   "source": [
    "print(valid_classes.difference(copied_classes))\n",
    "print(copied_classes.difference(valid_classes))"
   ]
  },
  {
   "cell_type": "code",
   "execution_count": 38,
   "metadata": {},
   "outputs": [
    {
     "name": "stdout",
     "output_type": "stream",
     "text": [
      "new_dataset/regulatory--yield--g1 2775\n",
      "new_dataset/warning--t-roads--g2 46\n"
     ]
    },
    {
     "data": {
      "image/png": "[encoded data removed]",
      "text/plain": [
       "<Figure size 432x288 with 1 Axes>"
      ]
     },
     "metadata": {
      "needs_background": "light"
     },
     "output_type": "display_data"
    }
   ],
   "source": [
    "import matplotlib.pyplot as plt\n",
    "class_counts = {}\n",
    "for class_folder in glob.glob(os.path.join(\"new_dataset\", \"*--*\")):\n",
    "    class_counts[class_folder] = len(os.listdir(class_folder))\n",
    "    \n",
    "max_class = max(class_counts, key=class_counts.get)\n",
    "min_class = min(class_counts, key=class_counts.get)\n",
    "\n",
    "plt.bar(range(len(class_counts)), sorted(class_counts.values()), 1)\n",
    "print(\"{} {}\".format(max_class, class_counts[max_class]))\n",
    "print(\"{} {}\".format(min_class, class_counts[min_class]))"
   ]
  }
 ],
 "metadata": {
  "kernelspec": {
   "display_name": "Python 3",
   "language": "python",
   "name": "python3"
  },
  "language_info": {
   "codemirror_mode": {
    "name": "ipython",
    "version": 3
   },
   "file_extension": ".py",
   "mimetype": "text/x-python",
   "name": "python",
   "nbconvert_exporter": "python",
   "pygments_lexer": "ipython3",
   "version": "3.6.10"
  }
 },
 "nbformat": 4,
 "nbformat_minor": 4
}
