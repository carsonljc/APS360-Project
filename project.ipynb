{
  "nbformat": 4,
  "nbformat_minor": 0,
  "metadata": {
    "kernelspec": {
      "display_name": "Python 3",
      "language": "python",
      "name": "python3"
    },
    "language_info": {
      "codemirror_mode": {
        "name": "ipython",
        "version": 3
      },
      "file_extension": ".py",
      "mimetype": "text/x-python",
      "name": "python",
      "nbconvert_exporter": "python",
      "pygments_lexer": "ipython3",
      "version": "3.7.6"
    },
    "colab": {
      "name": "project.ipynb",
      "provenance": []
    }
  },
  "cells": [
    {
      "cell_type": "markdown",
      "metadata": {
        "id": "7HkEIDIpIpmk",
        "colab_type": "text"
      },
      "source": [
        "Cropping the MTSD and sorting into the proper classes."
      ]
    },
    {
      "cell_type": "code",
      "metadata": {
        "tags": [],
        "id": "a9xQx2XsIpmm",
        "colab_type": "code",
        "colab": {},
        "outputId": "6387e2eb-771b-44db-b71a-57c5a53b251f"
      },
      "source": [
        "from PIL import Image\n",
        "import json\n",
        "import glob\n",
        "import os\n",
        "\n",
        "def get_pil_box(bbox):\n",
        "    return (bbox[\"xmin\"], bbox[\"ymin\"], bbox[\"xmax\"], bbox[\"ymax\"])\n",
        "\n",
        "# Edit these two variable to control the input and output directories\n",
        "mtsd_root = \"/Users/.../mtsd_fully_annotated\" # Path to root of original files\n",
        "out_root = \"/Users/.../APS360-Project/dataset\" # Directory to output to (will be created if it doesnt exist)\n",
        "\n",
        "json_root = os.path.join(mtsd_root, \"annotations/\")\n",
        "\n",
        "missing_file_count = 0\n",
        "total_file_count = 0\n",
        "for imagefile in glob.glob(os.path.join(mtsd_root, \"images/*.jpg\")):\n",
        "    total_file_count += 1\n",
        "    # Only print every 100 lines\n",
        "    if total_file_count % 100 == 0:\n",
        "        print(total_file_count)\n",
        "    \n",
        "    name, _ = os.path.splitext(os.path.basename(imagefile))\n",
        "    img = Image.open(imagefile)\n",
        "\n",
        "    try:\n",
        "        with open(os.path.join(json_root, name + \".json\")) as jsonfile:\n",
        "            annotations = json.load(jsonfile)\n",
        "\n",
        "        for obj in annotations[\"objects\"]:\n",
        "            key = obj[\"key\"]\n",
        "            label = obj[\"label\"]\n",
        "            crop = img.crop(get_pil_box(obj[\"bbox\"]))\n",
        "            \n",
        "            out_dir = os.path.join(out_root, label)\n",
        "            os.makedirs(out_dir, exist_ok=True)\n",
        "            crop.save(os.path.join(out_dir, key + \".jpg\"))\n",
        "    except FileNotFoundError:\n",
        "        # print(\"Warning: %s skipped because .json may not exist\" % imagefile)\n",
        "        missing_file_count += 1\n",
        "    except Exception as e:\n",
        "        print(\"Error: %s\" % e)\n",
        "\n",
        "print(\"Number of files without .jsons {} which is {}%\".format(missing_file_count, missing_file_count/total_file_count))"
      ],
      "execution_count": null,
      "outputs": [
        {
          "output_type": "stream",
          "text": [
            "Error: tile cannot extend outside image\n",
            "Number of files without .jsons 8 which is 0.1509433962264151%\n"
          ],
          "name": "stdout"
        }
      ]
    },
    {
      "cell_type": "code",
      "metadata": {
        "id": "ARCN8CfcIpmw",
        "colab_type": "code",
        "colab": {},
        "outputId": "52059065-0c94-494b-fcf6-66dd5e3a0fb2"
      },
      "source": [
        "# plot histogram of all classes in cropped dataset\n",
        "import matplotlib.pyplot as plt\n",
        "import os, os.path\n",
        "\n",
        "dataset_folder = 'C:\\\\jeremy\\\\Assignments\\\\APS360\\\\Project\\\\unique_dataset\\\\regulatory'\n",
        "reg_classes = os.listdir(dataset_folder)\n",
        "items = []\n",
        "highest = None\n",
        "highest_count = 0\n",
        "lowest = None\n",
        "lowest_count = 1e10\n",
        "for i,class_dir in enumerate(reg_classes):\n",
        "    fl = dataset_folder+'\\\\'+class_dir\n",
        "    if len(os.listdir(fl)) > highest_count:\n",
        "        highest = class_dir\n",
        "        highest_count = len(os.listdir(fl))\n",
        "    if len(os.listdir(fl)) < lowest_count:\n",
        "        lowest = class_dir\n",
        "        lowest_count = len(os.listdir(fl))\n",
        "    for fi in os.listdir(fl):\n",
        "        items.append(i)     \n",
        "plt.hist(items,bins=len(reg_classes))\n",
        "print(\"Highest count class is: {} with {} items\".format(highest,highest_count))\n",
        "print(\"Lowest count class is: {} with {} items\".format(lowest,lowest_count))"
      ],
      "execution_count": null,
      "outputs": [
        {
          "output_type": "stream",
          "text": [
            "Highest count class is: regulatory--yield--g1 with 2775 items\n",
            "Lowest count class is: regulatory--shared-path-bicycles-and-pedestrians--g1 with 20 items\n"
          ],
          "name": "stdout"
        },
        {
          "output_type": "display_data",
          "data": {
            "image/png": "[encoded data removed]",
            "text/plain": [
              "<Figure size 432x288 with 1 Axes>"
            ]
          },
          "metadata": {
            "tags": [],
            "needs_background": "light"
          }
        }
      ]
    },
    {
      "cell_type": "code",
      "metadata": {
        "id": "qcEJc9SWIpm3",
        "colab_type": "code",
        "colab": {},
        "outputId": "57c9f735-d6a2-46b8-a290-e3fd878c8555"
      },
      "source": [
        "# check all the classes count\n",
        "for i,class_dir in enumerate(reg_classes):\n",
        "    fl = dataset_folder+'\\\\'+class_dir\n",
        "    print(\"Class name: {} with {} items\".format(class_dir,len(os.listdir(fl))))"
      ],
      "execution_count": null,
      "outputs": [
        {
          "output_type": "stream",
          "text": [
            "Class name: regulatory--bicycles-only--g1 with 282 items\n",
            "Class name: regulatory--buses-only--g1 with 76 items\n",
            "Class name: regulatory--do-not-block-intersection--g1 with 58 items\n",
            "Class name: regulatory--dual-lanes-go-straight-on-left--g1 with 64 items\n",
            "Class name: regulatory--dual-lanes-go-straight-on-right--g1 with 50 items\n",
            "Class name: regulatory--dual-path-bicycles-and-pedestrians--g1 with 60 items\n",
            "Class name: regulatory--end-of-bicycles-only--g1 with 58 items\n",
            "Class name: regulatory--end-of-maximum-speed-limit-70--g1 with 57 items\n",
            "Class name: regulatory--end-of-no-parking--g1 with 37 items\n",
            "Class name: regulatory--end-of-priority-road--g1 with 92 items\n",
            "Class name: regulatory--end-of-prohibition--g1 with 82 items\n",
            "Class name: regulatory--end-of-speed-limit-zone--g1 with 117 items\n",
            "Class name: regulatory--give-way-to-oncoming-traffic--g1 with 76 items\n",
            "Class name: regulatory--go-straight--g1 with 485 items\n",
            "Class name: regulatory--go-straight-or-turn-left--g1 with 153 items\n",
            "Class name: regulatory--go-straight-or-turn-right--g1 with 130 items\n",
            "Class name: regulatory--height-limit--g1 with 459 items\n",
            "Class name: regulatory--keep-left--g1 with 452 items\n",
            "Class name: regulatory--keep-right--g1 with 1231 items\n",
            "Class name: regulatory--lane-control--g1 with 107 items\n",
            "Class name: regulatory--left-turn-yield-on-green--g1 with 100 items\n",
            "Class name: regulatory--maximum-speed-limit-10--g1 with 110 items\n",
            "Class name: regulatory--maximum-speed-limit-100--g1 with 194 items\n",
            "Class name: regulatory--maximum-speed-limit-110--g1 with 121 items\n",
            "Class name: regulatory--maximum-speed-limit-120--g1 with 108 items\n",
            "Class name: regulatory--maximum-speed-limit-20--g1 with 224 items\n",
            "Class name: regulatory--maximum-speed-limit-25--g2 with 212 items\n",
            "Class name: regulatory--maximum-speed-limit-30--g1 with 740 items\n",
            "Class name: regulatory--maximum-speed-limit-35--g2 with 156 items\n",
            "Class name: regulatory--maximum-speed-limit-40--g1 with 978 items\n",
            "Class name: regulatory--maximum-speed-limit-45--g3 with 102 items\n",
            "Class name: regulatory--maximum-speed-limit-5--g1 with 107 items\n",
            "Class name: regulatory--maximum-speed-limit-50--g1 with 701 items\n",
            "Class name: regulatory--maximum-speed-limit-55--g2 with 144 items\n",
            "Class name: regulatory--maximum-speed-limit-60--g1 with 648 items\n",
            "Class name: regulatory--maximum-speed-limit-70--g1 with 338 items\n",
            "Class name: regulatory--maximum-speed-limit-80--g1 with 410 items\n",
            "Class name: regulatory--maximum-speed-limit-90--g1 with 254 items\n",
            "Class name: regulatory--maximum-speed-limit-led-100--g1 with 74 items\n",
            "Class name: regulatory--maximum-speed-limit-led-60--g1 with 62 items\n",
            "Class name: regulatory--maximum-speed-limit-led-80--g1 with 50 items\n",
            "Class name: regulatory--mopeds-and-bicycles-only--g1 with 115 items\n",
            "Class name: regulatory--no-bicycles--g1 with 73 items\n",
            "Class name: regulatory--no-buses--g3 with 51 items\n",
            "Class name: regulatory--no-entry--g1 with 2021 items\n",
            "Class name: regulatory--no-heavy-goods-vehicles--g1 with 361 items\n",
            "Class name: regulatory--no-left-turn--g1 with 474 items\n",
            "Class name: regulatory--no-motor-vehicles-except-motorcycles--g1 with 58 items\n",
            "Class name: regulatory--no-motorcycles--g1 with 88 items\n",
            "Class name: regulatory--no-overtaking--g1 with 278 items\n",
            "Class name: regulatory--no-overtaking-by-heavy-goods-vehicles--g1 with 61 items\n",
            "Class name: regulatory--no-parking--g1 with 1099 items\n",
            "Class name: regulatory--no-parking-or-no-stopping--g1 with 82 items\n",
            "Class name: regulatory--no-pedestrians--g1 with 90 items\n",
            "Class name: regulatory--no-right-turn--g1 with 277 items\n",
            "Class name: regulatory--no-stopping--g1 with 1122 items\n",
            "Class name: regulatory--no-straight-through--g1 with 78 items\n",
            "Class name: regulatory--no-turn-on-red--g1 with 104 items\n",
            "Class name: regulatory--no-u-turn--g1 with 464 items\n",
            "Class name: regulatory--no-vehicles-carrying-dangerous-goods--g1 with 121 items\n",
            "Class name: regulatory--one-way-left--g1 with 343 items\n",
            "Class name: regulatory--one-way-right--g1 with 276 items\n",
            "Class name: regulatory--one-way-straight--g1 with 420 items\n",
            "Class name: regulatory--parking-restrictions--g2 with 58 items\n",
            "Class name: regulatory--pass-on-either-side--g1 with 313 items\n",
            "Class name: regulatory--passing-lane-ahead--g1 with 47 items\n",
            "Class name: regulatory--pedestrians-only--g1 with 170 items\n",
            "Class name: regulatory--priority-over-oncoming-vehicles--g1 with 116 items\n",
            "Class name: regulatory--priority-road--g1 with 1159 items\n",
            "Class name: regulatory--radar-enforced--g1 with 102 items\n",
            "Class name: regulatory--reversible-lanes--g2 with 118 items\n",
            "Class name: regulatory--road-closed--g2 with 83 items\n",
            "Class name: regulatory--road-closed-to-vehicles--g1 with 40 items\n",
            "Class name: regulatory--roundabout--g1 with 388 items\n",
            "Class name: regulatory--shared-path-bicycles-and-pedestrians--g1 with 20 items\n",
            "Class name: regulatory--shared-path-pedestrians-and-bicycles--g1 with 241 items\n",
            "Class name: regulatory--stop--g1 with 1387 items\n",
            "Class name: regulatory--stop-here-on-red-or-flashing-light--g1 with 86 items\n",
            "Class name: regulatory--stop-signals--g1 with 50 items\n",
            "Class name: regulatory--triple-lanes-turn-left-center-lane--g1 with 51 items\n",
            "Class name: regulatory--turn-left--g1 with 170 items\n",
            "Class name: regulatory--turn-left-ahead--g1 with 123 items\n",
            "Class name: regulatory--turn-right--g1 with 314 items\n",
            "Class name: regulatory--turn-right-ahead--g1 with 179 items\n",
            "Class name: regulatory--u-turn--g1 with 83 items\n",
            "Class name: regulatory--weight-limit--g1 with 217 items\n",
            "Class name: regulatory--wrong-way--g1 with 73 items\n",
            "Class name: regulatory--yield--g1 with 2775 items\n"
          ],
          "name": "stdout"
        }
      ]
    },
    {
      "cell_type": "code",
      "metadata": {
        "id": "CF1jVpVXIpm-",
        "colab_type": "code",
        "colab": {}
      },
      "source": [
        "# data augmentation\n",
        "\n",
        "import random\n",
        "from scipy import ndarray\n",
        "import skimage as sk\n",
        "from skimage import transform\n",
        "from skimage import util\n",
        "\n",
        "# pick a random degree of rotation between 25% on the left and 25% on the right\n",
        "def random_rotation(image_array: ndarray):\n",
        "    random_degree = random.uniform(-25, 25)\n",
        "    return sk.transform.rotate(image_array, random_degree)\n",
        "\n",
        "# add random noise to the image\n",
        "def random_noise(image_array: ndarray):\n",
        "    return sk.util.random_noise(image_array)\n",
        "\n"
      ],
      "execution_count": null,
      "outputs": []
    },
    {
      "cell_type": "code",
      "metadata": {
        "id": "mfqJLhi-IpnE",
        "colab_type": "code",
        "colab": {}
      },
      "source": [
        "# locally split cropped dataset\n",
        "pip install split_folders"
      ],
      "execution_count": null,
      "outputs": []
    },
    {
      "cell_type": "code",
      "metadata": {
        "id": "lD4T2k-5IpnK",
        "colab_type": "code",
        "colab": {}
      },
      "source": [
        "import split_folders\n",
        "input_folder = 'C:\\\\jeremy\\\\Assignments\\\\APS360\\\\Project\\\\unique_dataset\\\\regulatory'\n",
        "output_folder = 'C:\\\\jeremy\\\\Assignments\\\\APS360\\\\Project\\\\split_unique_datasets'\n",
        "split_folders.ratio(input_folder, output=output_folder, seed=1337, ratio=(.70, .15, .15))"
      ],
      "execution_count": null,
      "outputs": []
    },
    {
      "cell_type": "code",
      "metadata": {
        "id": "kaD1nbs5IpnP",
        "colab_type": "code",
        "colab": {}
      },
      "source": [
        "# Split uncropped dataset on google colab\n",
        "!pip install gdown"
      ],
      "execution_count": null,
      "outputs": []
    },
    {
      "cell_type": "code",
      "metadata": {
        "id": "INLKkqpYIpnS",
        "colab_type": "code",
        "colab": {}
      },
      "source": [
        "# Access denied, will have to do it locally\n",
        "!gdown --id 1Fjn2RV8BBRZhtiwJA9Wdg-3BMt9Z_pyJ --output regulatory.zip"
      ],
      "execution_count": null,
      "outputs": []
    },
    {
      "cell_type": "code",
      "metadata": {
        "id": "tooOZTdbIpnX",
        "colab_type": "code",
        "colab": {},
        "outputId": "04bcbac6-6eb5-40a9-b961-d345d3900b53"
      },
      "source": [
        "# Check num of dataset\n",
        "import os, os.path\n",
        "base_dir = 'C:\\\\jeremy\\\\Assignments\\\\APS360\\\\Project\\\\Regulatory\\\\'\n",
        "print(\"Annotation files: {}\".format(len(os.listdir(base_dir+'annotations'))))\n",
        "print(\"image files: {}\".format(len(os.listdir(base_dir+'images'))))\n",
        "print(os.listdir(base_dir+'annotations')[0])\n",
        "print(os.listdir(base_dir+'images')[0])"
      ],
      "execution_count": null,
      "outputs": [
        {
          "output_type": "stream",
          "text": [
            "Annotation files: 18027\n",
            "image files: 18027\n",
            "--7fWq6WjZM8L1eUSuvOEA.json\n",
            "--7fWq6WjZM8L1eUSuvOEA.jpg\n"
          ],
          "name": "stdout"
        }
      ]
    },
    {
      "cell_type": "code",
      "metadata": {
        "id": "uKnPbBaIIpna",
        "colab_type": "code",
        "colab": {},
        "outputId": "df49e922-61da-46d6-88c2-6caa4c8c20e5"
      },
      "source": [
        "# split uncropped images\n",
        "import os\n",
        "from glob import glob\n",
        "import shutil\n",
        "from sklearn.model_selection import train_test_split\n",
        "\n",
        "# find all image file names\n",
        "image_files = glob(base_dir+'images\\\\*.jpg')\n",
        "image_names = [name.replace(\".jpg\",\"\").split('\\\\')[-1] for name in image_files]\n",
        "\n",
        "# split names into 70% train, 15% val and 15% test\n",
        "train_names, test_names = train_test_split(image_names, test_size=0.3,random_state=1)\n",
        "val_names, test_names = train_test_split(test_names, test_size=0.5,random_state=1)\n",
        "print(f'Train: {len(train_names)}, Val: {len(val_names)}, Test: {len(test_names)}')"
      ],
      "execution_count": null,
      "outputs": [
        {
          "output_type": "stream",
          "text": [
            "Train: 12618, Val: 2704, Test: 2705\n"
          ],
          "name": "stdout"
        }
      ]
    },
    {
      "cell_type": "code",
      "metadata": {
        "id": "PV_wX75DIpne",
        "colab_type": "code",
        "colab": {}
      },
      "source": [
        "# split the files\n",
        "def move_files(file_names, source_path, destination_path):\n",
        "    # create dir if not exist\n",
        "    if not os.path.exists(destination_path):\n",
        "        os.makedirs(destination_path)\n",
        "    if not os.path.exists(destination_path+'images'):\n",
        "        os.makedirs(destination_path+'images')\n",
        "    if not os.path.exists(destination_path+'annotations'):\n",
        "        os.makedirs(destination_path+'annotations')\n",
        "    \n",
        "    # move images with given name\n",
        "    for fi in file_names:\n",
        "         image = fi+'.jpg'\n",
        "         json = fi+'.json'\n",
        "         \n",
        "         shutil.move(os.path.join(source_path+'images', image), \n",
        "                     os.path.join(destination_path+'images', image))\n",
        "         shutil.move(os.path.join(source_path+'annotations', json),\n",
        "                     os.path.join(destination_path+'annotations', json))\n",
        "    return\n",
        "\n",
        "source_path = base_dir\n",
        "destination_path = 'C:\\\\jeremy\\\\Assignments\\\\APS360\\\\Project\\\\split_regulatory_dataset\\\\'\n",
        "move_files(train_names,source_path,(destination_path+'train\\\\'))\n",
        "move_files(val_names,source_path,(destination_path+'val\\\\'))\n",
        "move_files(test_names,source_path,(destination_path+'test\\\\'))"
      ],
      "execution_count": null,
      "outputs": []
    },
    {
      "cell_type": "code",
      "metadata": {
        "id": "unVt70xmIpnh",
        "colab_type": "code",
        "colab": {},
        "outputId": "7290bc94-97d1-4a79-b659-faaa68314748"
      },
      "source": [
        "print(\"Train files: {}\".format(len(os.listdir(destination_path+'train/images'))))\n",
        "print(\"Val files: {}\".format(len(os.listdir(destination_path+'val/images'))))\n",
        "print(\"Test files: {}\".format(len(os.listdir(destination_path+'test/images'))))"
      ],
      "execution_count": null,
      "outputs": [
        {
          "output_type": "stream",
          "text": [
            "Train files: 12618\n",
            "Val files: 2704\n",
            "Test files: 2705\n"
          ],
          "name": "stdout"
        }
      ]
    },
    {
      "cell_type": "code",
      "metadata": {
        "id": "uLZfXBqyIpnk",
        "colab_type": "code",
        "colab": {}
      },
      "source": [
        "# Create a zip if using Colab\n",
        "!zip -r '/root/split_uncropped_dataset' -v '/root'"
      ],
      "execution_count": null,
      "outputs": []
    },
    {
      "cell_type": "markdown",
      "metadata": {
        "colab_type": "text",
        "id": "OhtOdxzd1ppr"
      },
      "source": [
        "**Sign Detection Code**\n",
        "\n",
        "Loaded some sample annotations + images into a dataset.\n",
        "Tested basic sliding window on dataset."
      ]
    },
    {
      "cell_type": "code",
      "metadata": {
        "colab_type": "code",
        "id": "z3p8N43E1ppt",
        "colab": {}
      },
      "source": [
        "import csv\n",
        "import numpy as np\n",
        "import random\n",
        "import torch\n",
        "import torch.utils.data as data\n",
        "from torch import nn\n",
        "import torch.nn.functional as F\n",
        "import torch.optim as optim #for gradient descent\n",
        "from torchvision import datasets, transforms\n",
        "\n",
        "import os\n",
        "import os.path\n",
        "\n",
        "import json\n",
        "\n",
        "from PIL import Image\n"
      ],
      "execution_count": 1,
      "outputs": []
    },
    {
      "cell_type": "code",
      "metadata": {
        "id": "PPA_FQiHpmiR",
        "colab_type": "code",
        "colab": {
          "base_uri": "https://localhost:8080/",
          "height": 221
        },
        "outputId": "488539d2-5582-4533-a025-3e5f3e5dcd0e"
      },
      "source": [
        "!pip install gdown\n",
        "#I used a small 10 image/annotation sample. Replace id with the actual dataset when training\n",
        "!gdown --id 1cSR-XHZu1K49e525EUnVBIjBVxKtyMLy --output sample.zip "
      ],
      "execution_count": 2,
      "outputs": [
        {
          "output_type": "stream",
          "text": [
            "Requirement already satisfied: gdown in /usr/local/lib/python3.6/dist-packages (3.6.4)\n",
            "Requirement already satisfied: tqdm in /usr/local/lib/python3.6/dist-packages (from gdown) (4.41.1)\n",
            "Requirement already satisfied: six in /usr/local/lib/python3.6/dist-packages (from gdown) (1.12.0)\n",
            "Requirement already satisfied: requests in /usr/local/lib/python3.6/dist-packages (from gdown) (2.23.0)\n",
            "Requirement already satisfied: chardet<4,>=3.0.2 in /usr/local/lib/python3.6/dist-packages (from requests->gdown) (3.0.4)\n",
            "Requirement already satisfied: idna<3,>=2.5 in /usr/local/lib/python3.6/dist-packages (from requests->gdown) (2.9)\n",
            "Requirement already satisfied: urllib3!=1.25.0,!=1.25.1,<1.26,>=1.21.1 in /usr/local/lib/python3.6/dist-packages (from requests->gdown) (1.24.3)\n",
            "Requirement already satisfied: certifi>=2017.4.17 in /usr/local/lib/python3.6/dist-packages (from requests->gdown) (2020.6.20)\n",
            "Downloading...\n",
            "From: https://drive.google.com/uc?id=1cSR-XHZu1K49e525EUnVBIjBVxKtyMLy\n",
            "To: /content/sample.zip\n",
            "10.6MB [00:00, 92.8MB/s]\n"
          ],
          "name": "stdout"
        }
      ]
    },
    {
      "cell_type": "code",
      "metadata": {
        "id": "HixWdxLRsx0e",
        "colab_type": "code",
        "colab": {
          "base_uri": "https://localhost:8080/",
          "height": 425
        },
        "outputId": "951b21fb-9e08-4ba7-bc33-1f1b8018ed01"
      },
      "source": [
        "!unzip sample.zip"
      ],
      "execution_count": 3,
      "outputs": [
        {
          "output_type": "stream",
          "text": [
            "Archive:  sample.zip\n",
            "   creating: Small_Sample/\n",
            "   creating: Small_Sample/annotations/\n",
            "  inflating: Small_Sample/annotations/_0JlZhb1y76fBKR2UC2tEw.json  \n",
            "  inflating: Small_Sample/annotations/_0nlCpNx8Yg5AyyK0hKRfA.json  \n",
            "  inflating: Small_Sample/annotations/_1anzS67volCv90ph6MGdQ.json  \n",
            "  inflating: Small_Sample/annotations/_1T5QJVHyduuhMEsP7BCeA.json  \n",
            "  inflating: Small_Sample/annotations/_2c5btLDzNwegXF6i0O_vQ.json  \n",
            "  inflating: Small_Sample/annotations/_2TmVR1rYfo6VWCO5Ke4wg.json  \n",
            "  inflating: Small_Sample/annotations/__2i0wrlec9g3uwX05QDig.json  \n",
            "  inflating: Small_Sample/annotations/__5wSiAMUy7m9ssKZZ2cEA.json  \n",
            "  inflating: Small_Sample/annotations/__xaqDe9h8QfOyxTt0224Q.json  \n",
            "  inflating: Small_Sample/annotations/__YtZD5n9fhOMe-rzQa5oA.json  \n",
            "   creating: Small_Sample/images/\n",
            "  inflating: Small_Sample/images/_0JlZhb1y76fBKR2UC2tEw.jpg  \n",
            "  inflating: Small_Sample/images/_0nlCpNx8Yg5AyyK0hKRfA.jpg  \n",
            "  inflating: Small_Sample/images/_1anzS67volCv90ph6MGdQ.jpg  \n",
            "  inflating: Small_Sample/images/_1T5QJVHyduuhMEsP7BCeA.jpg  \n",
            "  inflating: Small_Sample/images/_2c5btLDzNwegXF6i0O_vQ.jpg  \n",
            "  inflating: Small_Sample/images/_2TmVR1rYfo6VWCO5Ke4wg.jpg  \n",
            "  inflating: Small_Sample/images/__2i0wrlec9g3uwX05QDig.jpg  \n",
            "  inflating: Small_Sample/images/__5wSiAMUy7m9ssKZZ2cEA.jpg  \n",
            "  inflating: Small_Sample/images/__xaqDe9h8QfOyxTt0224Q.jpg  \n",
            "  inflating: Small_Sample/images/__YtZD5n9fhOMe-rzQa5oA.jpg  \n"
          ],
          "name": "stdout"
        }
      ]
    },
    {
      "cell_type": "code",
      "metadata": {
        "id": "RU12Fnr9s2Ub",
        "colab_type": "code",
        "colab": {}
      },
      "source": [
        "class AnnotationDataSet(data.Dataset):\n",
        "    def __init__(self, path_to_imgs, path_to_json, transform = None):\n",
        "        self.path_to_imgs = path_to_imgs\n",
        "        self.path_to_json = path_to_json\n",
        "        self.image_ids = os.listdir(path_to_imgs)\n",
        "        self.transform = transform\n",
        "\n",
        "    def __getitem__(self, idx):\n",
        "        img_id = self.image_ids[idx]\n",
        "        img_id = os.path.splitext(img_id)[0]\n",
        "        img = Image.open(os.path.join(self.path_to_imgs, img_id + \".jpg\"))\n",
        "        json_file = json.load(open(os.path.join(self.path_to_json, img_id + \".json\")))\n",
        "\n",
        "        if self.transform:\n",
        "            img = self.transform(img)\n",
        "\n",
        "        return img, json_file\n",
        "\n",
        "    def __len__(self):\n",
        "        return len(self.image_ids)"
      ],
      "execution_count": 4,
      "outputs": []
    },
    {
      "cell_type": "code",
      "metadata": {
        "id": "kBnL8pA24L0v",
        "colab_type": "code",
        "colab": {}
      },
      "source": [
        "sample_set = AnnotationDataSet(\"Small_Sample/images\", \"Small_Sample/annotations\", transform=transforms.ToTensor())\n",
        "#sample_set = AnnotationDataSet(\"Small_Sample/images\", \"Small_Sample/annotations\")"
      ],
      "execution_count": 5,
      "outputs": []
    },
    {
      "cell_type": "code",
      "metadata": {
        "id": "sW_S3UVJ4lAB",
        "colab_type": "code",
        "colab": {
          "base_uri": "https://localhost:8080/",
          "height": 1000
        },
        "outputId": "a99b7143-40ec-47f1-e6d7-b0edab172cfa"
      },
      "source": [
        "#Check if we can iterate through our dataset\n",
        "for img, json_file in iter(sample_set):\n",
        "  print (img.shape)\n",
        "  for i in json_file[\"objects\"]:\n",
        "    print (\"label:\", i[\"label\"])\n",
        "    print (\"bbox:\", i[\"bbox\"])\n",
        "\n"
      ],
      "execution_count": 6,
      "outputs": [
        {
          "output_type": "stream",
          "text": [
            "torch.Size([3, 2448, 3264])\n",
            "label: regulatory--no-heavy-goods-vehicles--g4\n",
            "bbox: {'xmin': 1043.109375, 'ymin': 1102.67578125, 'ymax': 1281.97265625, 'xmax': 1223.203125}\n",
            "torch.Size([3, 2988, 3984])\n",
            "label: other-sign\n",
            "bbox: {'xmin': 2219.6015625, 'ymin': 1502.75390625, 'ymax': 1518.0732421875, 'xmax': 2271.15234375}\n",
            "label: other-sign\n",
            "bbox: {'xmin': 2122.3359375, 'ymin': 1507.130859375, 'ymax': 1524.638671875, 'xmax': 2178.75}\n",
            "label: other-sign\n",
            "bbox: {'xmin': 2364.52734375, 'ymin': 1502.0244140625, 'ymax': 1520.26171875, 'xmax': 2462.765625}\n",
            "label: complementary--keep-left--g1\n",
            "bbox: {'xmin': 2438.44921875, 'ymin': 1631.14453125, 'ymax': 1644.275390625, 'xmax': 2461.79296875}\n",
            "label: other-sign\n",
            "bbox: {'xmin': 2359.6640625, 'ymin': 1578.62109375, 'ymax': 1588.833984375, 'xmax': 2376.19921875}\n",
            "label: warning--school-zone--g2\n",
            "bbox: {'xmin': 2374.25390625, 'ymin': 1524.638671875, 'ymax': 1604.1533203125, 'xmax': 2466.65625}\n",
            "label: regulatory--maximum-speed-limit-25--g2\n",
            "bbox: {'xmin': 1776.0703125, 'ymin': 1196.3671875, 'ymax': 1300.6845703125, 'xmax': 1840.265625}\n",
            "label: other-sign\n",
            "bbox: {'xmin': 2104.828125, 'ymin': 1544.3349609375, 'ymax': 1554.5478515625, 'xmax': 2114.5546875}\n",
            "label: other-sign\n",
            "bbox: {'xmin': 1775.09765625, 'ymin': 1175.94140625, 'ymax': 1197.826171875, 'xmax': 1837.34765625}\n",
            "label: warning--school-zone--g2\n",
            "bbox: {'xmin': 2435.53125, 'ymin': 1602.6943359375, 'ymax': 1631.14453125, 'xmax': 2463.73828125}\n",
            "label: other-sign\n",
            "bbox: {'xmin': 2361.609375, 'ymin': 1562.572265625, 'ymax': 1578.62109375, 'xmax': 2374.25390625}\n",
            "torch.Size([3, 3024, 4032])\n",
            "label: regulatory--maximum-speed-limit-100--g3\n",
            "bbox: {'xmin': 2579.0625, 'ymin': 1460.3203125, 'ymax': 1517.90625, 'xmax': 2628.28125}\n",
            "label: other-sign\n",
            "bbox: {'xmin': 2237.484375, 'ymin': 1514.953125, 'ymax': 1551.8671875, 'xmax': 2285.71875}\n",
            "label: other-sign\n",
            "bbox: {'xmin': 2203.03125, 'ymin': 1531.93359375, 'ymax': 1551.8671875, 'xmax': 2217.796875}\n",
            "label: other-sign\n",
            "bbox: {'xmin': 2166.609375, 'ymin': 1551.8671875, 'ymax': 1559.25, 'xmax': 2184.328125}\n",
            "torch.Size([3, 2448, 3264])\n",
            "label: regulatory--bicycles-only--g1\n",
            "bbox: {'xmin': 2138.8125, 'ymin': 1170.2109375, 'ymax': 1193.51953125, 'xmax': 2160.328125}\n",
            "label: regulatory--one-way-left--g1\n",
            "bbox: {'xmin': 646.265625, 'ymin': 1081.16015625, 'ymax': 1111.04296875, 'xmax': 718.78125}\n",
            "label: other-sign\n",
            "bbox: {'xmin': 2140.40625, 'ymin': 1194.1171875, 'ymax': 1212.046875, 'xmax': 2157.140625}\n",
            "label: other-sign\n",
            "bbox: {'xmin': 2138.015625, 'ymin': 1212.64453125, 'ymax': 1225.1953125, 'xmax': 2157.9375}\n",
            "label: other-sign\n",
            "bbox: {'xmin': 2248.78125, 'ymin': 1231.171875, 'ymax': 1241.33203125, 'xmax': 2259.140625}\n",
            "label: other-sign\n",
            "bbox: {'xmin': 2248.78125, 'ymin': 1215.6328125, 'ymax': 1229.9765625, 'xmax': 2257.546875}\n",
            "torch.Size([3, 3024, 4032])\n",
            "label: other-sign\n",
            "bbox: {'xmin': 1267.875, 'ymin': 1944.6328125, 'ymax': 2252.49609375, 'xmax': 1558.265625}\n",
            "label: other-sign\n",
            "bbox: {'xmin': 1829.953125, 'ymin': 1919.53125, 'ymax': 1996.3125, 'xmax': 1892.953125}\n",
            "label: other-sign\n",
            "bbox: {'xmin': 1797.46875, 'ymin': 1996.3125, 'ymax': 2299.74609375, 'xmax': 2045.53125}\n",
            "label: regulatory--one-way-left--g2\n",
            "bbox: {'xmin': 2871.421875, 'ymin': 2063.49609375, 'ymax': 2295.31640625, 'xmax': 3047.625}\n",
            "label: other-sign\n",
            "bbox: {'xmin': 2818.265625, 'ymin': 1786.640625, 'ymax': 2071.6171875, 'xmax': 3038.765625}\n",
            "label: other-sign\n",
            "bbox: {'xmin': 2049.46875, 'ymin': 2486.53125, 'ymax': 2671.83984375, 'xmax': 2107.546875}\n",
            "label: other-sign\n",
            "bbox: {'xmin': 2835.984375, 'ymin': 1796.9765625, 'ymax': 1984.5, 'xmax': 3027.9375}\n",
            "torch.Size([3, 4000, 8000])\n",
            "label: regulatory--maximum-speed-limit-30--g1\n",
            "bbox: {'xmin': 222.65625, 'ymin': 1859.375, 'ymax': 1938.4765625, 'xmax': 300.78125}\n",
            "label: warning--pedestrians-crossing--g4\n",
            "bbox: {'xmin': 5714.84375, 'ymin': 1912.109375, 'ymax': 2007.8125, 'xmax': 5794.921875}\n",
            "label: other-sign\n",
            "bbox: {'xmin': 5453.125, 'ymin': 1948.2421875, 'ymax': 1969.7265625, 'xmax': 5476.5625}\n",
            "label: other-sign\n",
            "bbox: {'xmin': 207.03125, 'ymin': 1743.1640625, 'ymax': 1858.3984375, 'xmax': 332.03125}\n",
            "label: other-sign\n",
            "bbox: {'xmin': 6181.640625, 'ymin': 1877.9296875, 'ymax': 2056.640625, 'xmax': 6333.984375}\n",
            "label: other-sign\n",
            "bbox: {'xmin': 5.859375, 'ymin': 1806.640625, 'ymax': 1855.46875, 'xmax': 42.96875}\n",
            "label: complementary--buses--g1\n",
            "bbox: {'xmin': 11.71875, 'ymin': 1810.546875, 'ymax': 1839.84375, 'xmax': 41.015625}\n",
            "label: other-sign\n",
            "bbox: {'xmin': 5.859375, 'ymin': 1790.0390625, 'ymax': 1804.6875, 'xmax': 46.875}\n",
            "label: other-sign\n",
            "bbox: {'xmin': 5.859375, 'ymin': 1857.421875, 'ymax': 1874.0234375, 'xmax': 44.921875}\n",
            "label: other-sign\n",
            "bbox: {'xmin': 4074.21875, 'ymin': 1982.421875, 'ymax': 2003.90625, 'xmax': 4082.03125}\n",
            "torch.Size([3, 3456, 4608])\n",
            "label: regulatory--stop--g1\n",
            "bbox: {'xmin': 2496.375, 'ymin': 2449.40625, 'ymax': 2548.125, 'xmax': 2557.125}\n",
            "label: other-sign\n",
            "bbox: {'xmin': 1957.5, 'ymin': 2652.75, 'ymax': 2674.6875, 'xmax': 1978.875}\n",
            "label: other-sign\n",
            "bbox: {'xmin': 3211.875, 'ymin': 2170.96875, 'ymax': 2261.25, 'xmax': 3704.625}\n",
            "label: regulatory--reversible-lanes--g2\n",
            "bbox: {'xmin': 2250.0, 'ymin': 2481.46875, 'ymax': 2570.90625, 'xmax': 2311.875}\n",
            "label: warning--junction-with-a-side-road-perpendicular-left--g3\n",
            "bbox: {'xmin': 1990.125, 'ymin': 2609.71875, 'ymax': 2651.90625, 'xmax': 2032.875}\n",
            "label: other-sign\n",
            "bbox: {'xmin': 1929.375, 'ymin': 2662.03125, 'ymax': 2678.0625, 'xmax': 1944.0}\n",
            "torch.Size([3, 3024, 4032])\n",
            "label: other-sign\n",
            "bbox: {'xmin': 2188.265625, 'ymin': 1720.93359375, 'ymax': 1763.75390625, 'xmax': 2227.640625}\n",
            "label: regulatory--no-entry--g1\n",
            "bbox: {'xmin': 1207.828125, 'ymin': 1857.515625, 'ymax': 1879.6640625, 'xmax': 1230.46875}\n",
            "label: regulatory--one-way-straight--g1\n",
            "bbox: {'xmin': 1966.78125, 'ymin': 1910.671875, 'ymax': 1931.34375, 'xmax': 1987.453125}\n",
            "label: other-sign\n",
            "bbox: {'xmin': 2156.765625, 'ymin': 1721.671875, 'ymax': 1763.75390625, 'xmax': 2188.265625}\n",
            "label: regulatory--no-entry--g1\n",
            "bbox: {'xmin': 934.171875, 'ymin': 1912.88671875, 'ymax': 1948.32421875, 'xmax': 972.5625}\n",
            "label: other-sign\n",
            "bbox: {'xmin': 2156.765625, 'ymin': 1766.70703125, 'ymax': 1785.90234375, 'xmax': 2190.234375}\n",
            "label: other-sign\n",
            "bbox: {'xmin': 1655.71875, 'ymin': 1125.140625, 'ymax': 1233.66796875, 'xmax': 1777.78125}\n",
            "label: other-sign\n",
            "bbox: {'xmin': 2080.96875, 'ymin': 1895.16796875, 'ymax': 1919.53125, 'xmax': 2096.71875}\n",
            "label: information--pedestrians-crossing--g1\n",
            "bbox: {'xmin': 1134.0, 'ymin': 1974.1640625, 'ymax': 1989.66796875, 'xmax': 1149.75}\n",
            "label: regulatory--pass-on-either-side--g1\n",
            "bbox: {'xmin': 1794.515625, 'ymin': 1952.75390625, 'ymax': 1983.0234375, 'xmax': 1824.046875}\n",
            "torch.Size([3, 720, 1280])\n",
            "label: other-sign\n",
            "bbox: {'xmin': 437.5, 'ymin': 201.97265625, 'ymax': 264.375, 'xmax': 537.1875}\n",
            "label: other-sign\n",
            "bbox: {'xmin': 908.125, 'ymin': 183.1640625, 'ymax': 242.75390625, 'xmax': 942.1875}\n",
            "label: other-sign\n",
            "bbox: {'xmin': 545.0, 'ymin': 244.16015625, 'ymax': 268.41796875, 'xmax': 567.8125}\n",
            "label: other-sign\n",
            "bbox: {'xmin': 635.0, 'ymin': 289.16015625, 'ymax': 304.98046875, 'xmax': 647.8125}\n",
            "label: regulatory--no-right-turn--g2\n",
            "bbox: {'xmin': 913.4375, 'ymin': 186.6796875, 'ymax': 210.9375, 'xmax': 939.375}\n",
            "torch.Size([3, 3120, 4160])\n",
            "label: regulatory--height-limit--g1\n",
            "bbox: {'xmin': 1052.1875, 'ymin': 1131.15234375, 'ymax': 1340.625, 'xmax': 1273.59375}\n",
            "label: regulatory--maximum-speed-limit-20--g1\n",
            "bbox: {'xmin': 3109.84375, 'ymin': 1652.16796875, 'ymax': 1712.34375, 'xmax': 3171.796875}\n",
            "label: regulatory--height-limit--g1\n",
            "bbox: {'xmin': 2695.46875, 'ymin': 1243.125, 'ymax': 1451.8359375, 'xmax': 2898.59375}\n",
            "label: regulatory--no-entry--g1\n",
            "bbox: {'xmin': 2514.6875, 'ymin': 1285.78125, 'ymax': 1412.98828125, 'xmax': 2653.828125}\n",
            "label: other-sign\n",
            "bbox: {'xmin': 2801.09375, 'ymin': 1473.1640625, 'ymax': 1840.3125, 'xmax': 3198.203125}\n"
          ],
          "name": "stdout"
        }
      ]
    },
    {
      "cell_type": "code",
      "metadata": {
        "id": "6uIx7Es7994O",
        "colab_type": "code",
        "colab": {
          "base_uri": "https://localhost:8080/",
          "height": 34
        },
        "outputId": "57d233f9-1e70-4abf-cbbb-08904383a35e"
      },
      "source": [
        "sample_loader = torch.utils.data.DataLoader(sample_set, batch_size=1)\n",
        "sd_size = 32 #Sliding window size\n",
        "sd_stride = 2 #Sliding window stride - how many pixels to move\n",
        "\n",
        "for img, json_file in iter(sample_loader):\n",
        "\n",
        "  #I'll do the stuff under TODO later\n",
        "\n",
        "  #TODO: Implement downsample loop on image\n",
        "  #We can't change sliding window size because it would change our input size to our model\n",
        "  #The paper I read downsampled their images by ~20-50% per iteration 5 times.\n",
        "  #Need to also adjust bounding box positions (values will be scaled down at an equal ratio)\n",
        "\n",
        "  #TODO: Pad images in a mini batch to be the same size\n",
        "  #We would need to pad the images with a white or black border so they are all the same\n",
        "  #size in the mini batch\n",
        "  #Would need to adjust bounding box positions (values will need to be summed with the x or y padding size)\n",
        "\n",
        "  #Sliding window\n",
        "  for y_cor in range(0, img.shape[3] - sd_size, sd_stride):\n",
        "    for x_cor in range(0, img.shape[2] - sd_size, sd_stride):\n",
        "      sd = img[:,:, x_cor:x_cor+sd_size, y_cor:y_cor+sd_size]\n",
        "      print (sd.shape)\n",
        "      #Input to model here\n",
        "\n",
        "      break\n",
        "    break\n",
        "  break\n",
        "\n"
      ],
      "execution_count": 7,
      "outputs": [
        {
          "output_type": "stream",
          "text": [
            "torch.Size([1, 3, 32, 32])\n"
          ],
          "name": "stdout"
        }
      ]
    }
  ]
}