{
  "nbformat": 4,
  "nbformat_minor": 0,
  "metadata": {
    "colab": {
      "name": "video_to_frames.ipynb",
      "provenance": [],
      "collapsed_sections": [],
      "toc_visible": true,
      "include_colab_link": true
    },
    "kernelspec": {
      "name": "python3",
      "display_name": "Python 3"
    }
  },
  "cells": [
    {
      "cell_type": "markdown",
      "metadata": {
        "id": "view-in-github",
        "colab_type": "text"
      },
      "source": [
        "<a href=\"https://colab.research.google.com/github/geoffkylin/APS360-Project/blob/master/video_to_frames.ipynb\" target=\"_parent\"><img src=\"https://colab.research.google.com/assets/colab-badge.svg\" alt=\"Open In Colab\"/></a>"
      ]
    },
    {
      "cell_type": "markdown",
      "metadata": {
        "id": "EMLpVx2yqaGM",
        "colab_type": "text"
      },
      "source": [
        "Referred to: https://colab.research.google.com/github/Giffy/CarCrashDetector/blob/master/1_Building_a_Dataset.ipynb#scrollTo=TEyu5N0u7GWi\n"
      ]
    },
    {
      "cell_type": "markdown",
      "metadata": {
        "id": "E9_XGk6Gfeu-",
        "colab_type": "text"
      },
      "source": [
        "<a id=\"env_setup\"> </a>\n",
        "## 1. Environment setup and library import"
      ]
    },
    {
      "cell_type": "code",
      "metadata": {
        "id": "wLdz8E-BZP3C",
        "colab_type": "code",
        "colab": {}
      },
      "source": [
        "!pip install --upgrade pip > /dev/null\n",
        "!pip install scikit-image==0.13.1\n",
        "!pip install opencv-python==3.4.0.12\n",
        "!pip install -U scikit-image\n"
      ],
      "execution_count": null,
      "outputs": []
    },
    {
      "cell_type": "code",
      "metadata": {
        "id": "A7Vu1eSYey5e",
        "colab_type": "code",
        "colab": {}
      },
      "source": [
        "import cv2\n",
        "from skimage.color import rgb2gray\n",
        "from skimage.transform import resize\n",
        "import matplotlib.pyplot as plt\n",
        "import math"
      ],
      "execution_count": null,
      "outputs": []
    },
    {
      "cell_type": "code",
      "metadata": {
        "id": "meAYWZb0P4wE",
        "colab_type": "code",
        "colab": {
          "base_uri": "https://localhost:8080/",
          "height": 150
        },
        "outputId": "571a6b23-e5cb-4a27-9c25-e74e91fc920e"
      },
      "source": [
        "! sudo apt-get install python-tk"
      ],
      "execution_count": null,
      "outputs": [
        {
          "output_type": "stream",
          "text": [
            "Reading package lists... Done\n",
            "Building dependency tree       \n",
            "Reading state information... Done\n",
            "python-tk is already the newest version (2.7.17-1~18.04).\n",
            "The following package was automatically installed and is no longer required:\n",
            "  libnvidia-common-440\n",
            "Use 'sudo apt autoremove' to remove it.\n",
            "0 upgraded, 0 newly installed, 0 to remove and 35 not upgraded.\n"
          ],
          "name": "stdout"
        }
      ]
    },
    {
      "cell_type": "markdown",
      "metadata": {
        "id": "NCfhpvFj9MVS",
        "colab_type": "text"
      },
      "source": [
        "<a id=\"drive_setup\"> </a>\n",
        "## 2. Link Goggle Drive with Colab\n",
        "\n",
        "Run the code and follow the link to get an authentification key, copy it and paste in the box that will appear in jupyter notebook. After fist key the script will ask for a second authentification key, follow the process as above.\n",
        "\n",
        "Source : https://medium.com/deep-learning-turkey/google-colab-free-gpu-tutorial-e113627b9f5d "
      ]
    },
    {
      "cell_type": "code",
      "metadata": {
        "id": "8PDFEgqA9KuM",
        "colab_type": "code",
        "colab": {
          "base_uri": "https://localhost:8080/",
          "height": 33
        },
        "outputId": "7da081ef-200b-46eb-8c6d-2d6e0e6638e1"
      },
      "source": [
        "# Check is Link to Drive is OK\n",
        "google = !if [ -d 'GDrive/' ]; then echo \"1\" ; else echo \"0\"; fi\n",
        "if (google[0] is '0' ):\n",
        "  from google.colab import drive\n",
        "  drive.mount('/content/GDrive/')\n",
        "!if [ -d 'GDrive/' ]; then echo \"Connection to Google drive successful\" ; else echo \"Error to connect to Google drive\"; fi"
      ],
      "execution_count": null,
      "outputs": [
        {
          "output_type": "stream",
          "text": [
            "Connection to Google drive successful\n"
          ],
          "name": "stdout"
        }
      ]
    },
    {
      "cell_type": "markdown",
      "metadata": {
        "id": "cxAIW3nO_awu",
        "colab_type": "text"
      },
      "source": [
        "<a id=\"variables\"> </a>\n",
        "## 3. Constants and variables"
      ]
    },
    {
      "cell_type": "code",
      "metadata": {
        "id": "oL4fPGpuKP2m",
        "colab_type": "code",
        "colab": {}
      },
      "source": [
        "# Make a temporarty directory in Google colab\n",
        "!mkdir -p /content/SignDetection/Sources/frames > /dev/null\n",
        "\n",
        "# Recomended to download and copy mp4 video in your Google Drive.\n",
        "# Directory tree structure in Google drive\n",
        "#      / ──┐\n",
        "#          └─ /SignDetection ──┐\n",
        "#                                  ├─ videofile\n",
        "#                                  └─ /frames \n",
        "\n",
        "# copy video stored in Google Drive /SignDetection/Sources/   to Colab\n",
        "!cp GDrive/My\\ Drive/SignDetection/Sources/*.mp4 SignDetection/Sources/"
      ],
      "execution_count": null,
      "outputs": []
    },
    {
      "cell_type": "code",
      "metadata": {
        "id": "xwVJaYVnW9bd",
        "colab_type": "code",
        "colab": {
          "base_uri": "https://localhost:8080/",
          "height": 50
        },
        "outputId": "0b5be84f-bded-46e7-a003-0a37235dfd91"
      },
      "source": [
        "INPUT_VIDEOS_PATH = '/content/SignDetection/Sources'              # Path to folder with videos \n",
        "OUTPUT_FRAMES_PATH = '/content/SignDetection/Sources/frames'      # Location of extracted images\n",
        "\n",
        "frame_name = 'frame'                                                  # Frame name       \n",
        "one_frame_each = 1                                                    # Extract every frames\n",
        "\n",
        "\n",
        "!if [ -d {OUTPUT_FRAMES_PATH} ]; then echo \"Output to be stored in \"{OUTPUT_FRAMES_PATH} ; else mkdir {OUTPUT_FRAMES_PATH} && echo \"Output directory created\"; fi\n",
        "\n",
        "files = !ls {INPUT_VIDEOS_PATH}/*.mp4                                 # Video file names in INPUT VIDEOS PATH\n",
        "videofile = files[0]                                                  # Refactor of variable 'files' to convert the first video of list \n",
        "print(videofile)"
      ],
      "execution_count": null,
      "outputs": [
        {
          "output_type": "stream",
          "text": [
            "Output to be stored in /content/SignDetection/Sources/frames\n",
            "/content/SignDetection/Sources/file_example_MP4_480_1_5MG.mp4\n"
          ],
          "name": "stdout"
        }
      ]
    },
    {
      "cell_type": "markdown",
      "metadata": {
        "id": "ol7vkvGijGUZ",
        "colab_type": "text"
      },
      "source": [
        "<a id=\"video_frame\"> </a>\n",
        "## 4. Transform videos to frames"
      ]
    },
    {
      "cell_type": "code",
      "metadata": {
        "id": "TEyu5N0u7GWi",
        "colab_type": "code",
        "colab": {
          "base_uri": "https://localhost:8080/",
          "height": 53
        },
        "outputId": "ec70e017-b28a-4f19-e272-d3020ec20b40"
      },
      "source": [
        "count = 0\n",
        "success = True\n",
        "\n",
        "vidcap = cv2.VideoCapture(videofile)\n",
        "success,image = vidcap.read() \n",
        "while success:\n",
        "    if (count%one_frame_each == 0):                                   # checks frame number and keeps one_frame_each          \n",
        "        success,image = vidcap.read()                                 # reads next frame           \n",
        "        #print(image.shape)\n",
        "        if (success==False):\n",
        "          break\n",
        "\n",
        "        tmp = cv2.cvtColor(image,cv2.COLOR_BGRA2RGB)\n",
        "        if count < 10:\n",
        "\n",
        "          plt.imsave(\"%s/%s%s%d.jpg\" % (OUTPUT_FRAMES_PATH,frame_name,'00', count),tmp) # saves images to frame folder\n",
        "          print ('*', end=\"\")\n",
        "        if count >= 10 and count <=99:\n",
        "          plt.imsave(\"%s/%s%s%d.jpg\" % (OUTPUT_FRAMES_PATH,frame_name,'0', count),tmp) # saves images to frame folder\n",
        "          print ('*', end=\"\")\n",
        "        else:\n",
        "          plt.imsave(\"%s/%s%d.jpg\" % (OUTPUT_FRAMES_PATH,frame_name, count),tmp) # saves images to frame folder\n",
        "          print ('*', end=\"\")\n",
        "\n",
        "    else:\n",
        "        success,image = vidcap.read()                                 # reads next frame\n",
        "    count += 1                                                        # loops counter"
      ],
      "execution_count": 22,
      "outputs": [
        {
          "output_type": "stream",
          "text": [
            "**********************************************************************************************************************************************************************************************************************************************************************************************************************************************************************************************************************************************************************************************************************************************************************************************************************************************************************************************************************************************************************************************************************************************************************************************************************************************"
          ],
          "name": "stdout"
        }
      ]
    },
    {
      "cell_type": "code",
      "metadata": {
        "id": "5QXj4ez4s1Mp",
        "colab_type": "code",
        "colab": {}
      },
      "source": [
        "#Referred to https://medium.com/@iKhushPatel/convert-video-to-images-images-to-video-using-opencv-python-db27a128a481\n",
        "import cv2\n",
        "import numpy as np\n",
        "import os\n",
        "from os.path import isfile, join\n",
        "pathIn= '/content/SignDetection/Sources/frames/'\n",
        "pathOut = 'video.mp4'\n",
        "fps = 30\n",
        "frame_array = []\n",
        "files = [f for f in os.listdir(pathIn) if isfile(join(pathIn, f))]\n",
        "#for sorting the file names properly\n",
        "files.sort(key = lambda x: x[5:-4])\n",
        "files.sort()\n",
        "frame_array = []\n",
        "files = [f for f in os.listdir(pathIn) if isfile(join(pathIn, f))]\n",
        "#for sorting the file names properly\n",
        "files.sort(key = lambda x: x[5:-4])\n",
        "for i in range(len(files)):\n",
        "    filename=pathIn + files[i]\n",
        "    #reading each files\n",
        "    #print(filename)\n",
        "    img = cv2.imread(filename)\n",
        "    height, width, layers = img.shape\n",
        "    size = (width,height)\n",
        "    \n",
        "    #inserting the frames into an image array\n",
        "    frame_array.append(img)\n",
        "out = cv2.VideoWriter(pathOut,cv2.VideoWriter_fourcc(*'DIVX'), fps, size)\n",
        "for i in range(len(frame_array)):\n",
        "    # writing to a image array\n",
        "    out.write(frame_array[i])\n",
        "out.release()"
      ],
      "execution_count": null,
      "outputs": []
    }
  ]
}